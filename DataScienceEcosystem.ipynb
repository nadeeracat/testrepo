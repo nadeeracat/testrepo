{
 "cells": [
  {
   "cell_type": "markdown",
   "id": "bef318d4-dad6-474f-922b-4d0d34912bf5",
   "metadata": {},
   "source": [
    "# Data Science Tools and Ecosystem"
   ]
  },
  {
   "cell_type": "markdown",
   "id": "19b5e582-686b-4f05-8766-70724f9f7ebb",
   "metadata": {},
   "source": [
    "In this notebook, Data Science Tools and Ecosystem are summarized."
   ]
  },
  {
   "cell_type": "markdown",
   "id": "da0dc463-14cf-441b-90a2-79331fab9e45",
   "metadata": {},
   "source": [
    "**Objectives:**\n",
    "- Tools\n",
    "- Open source\n",
    "- Plotting graphs\n",
    "- Using Git"
   ]
  },
  {
   "cell_type": "markdown",
   "id": "c4bc5447-2bcb-4525-8953-9a8d13277023",
   "metadata": {},
   "source": [
    "Some of the popular languages that Data Scientists use are:\n",
    "1. Python\n",
    "2. R\n",
    "3. Julia\n",
    "4. etc."
   ]
  },
  {
   "cell_type": "markdown",
   "id": "b4d15d57-305f-4fd2-8f25-a75ea1e12178",
   "metadata": {},
   "source": [
    "Some of the commonly used libraries used by Data Scientists include:\n",
    "1. Matplotlib\n",
    "2. Pandas\n",
    "3. Tensorflow\n",
    "4. etc."
   ]
  },
  {
   "cell_type": "markdown",
   "id": "f9c21ac8-9bb6-4c60-a225-c7a373cde21d",
   "metadata": {},
   "source": [
    "# Data Science Tools"
   ]
  },
  {
   "cell_type": "markdown",
   "id": "e87d77a8-c6fc-4a60-b29f-e02a96225b82",
   "metadata": {},
   "source": [
    "Jupyter notebook"
   ]
  },
  {
   "cell_type": "markdown",
   "id": "8207caa6-16f9-48fe-959a-5bdda6d33e10",
   "metadata": {},
   "source": [
    "R studio"
   ]
  },
  {
   "cell_type": "markdown",
   "id": "41721faf-7974-4411-b6dc-267fb37341bc",
   "metadata": {},
   "source": [
    "Apache Zeppelin"
   ]
  },
  {
   "cell_type": "markdown",
   "id": "84198ba0-dda4-46d3-8a30-6403d7c53467",
   "metadata": {},
   "source": [
    "### Below are a few examples of evaluating arithmetic expressions in Python"
   ]
  },
  {
   "cell_type": "code",
   "execution_count": 1,
   "id": "e9c652a9-dd75-4b25-8790-9e4642c8232e",
   "metadata": {},
   "outputs": [
    {
     "data": {
      "text/plain": [
       "17"
      ]
     },
     "execution_count": 1,
     "metadata": {},
     "output_type": "execute_result"
    }
   ],
   "source": [
    "# This a simple arithmetic expression to mutiply then add integers\n",
    "(3*4)+5"
   ]
  },
  {
   "cell_type": "code",
   "execution_count": 2,
   "id": "6b1d45c4-4a04-4d9f-9c97-ae2143505115",
   "metadata": {},
   "outputs": [
    {
     "data": {
      "text/plain": [
       "3.3333333333333335"
      ]
     },
     "execution_count": 2,
     "metadata": {},
     "output_type": "execute_result"
    }
   ],
   "source": [
    "# This will convert 200 minutes to hours by diving by 60\n",
    "200/60"
   ]
  },
  {
   "cell_type": "markdown",
   "id": "49d47a53-0a09-46b8-b350-4ed83ac476c8",
   "metadata": {},
   "source": [
    "## Author ##\n",
    "Nadira"
   ]
  },
  {
   "cell_type": "code",
   "execution_count": null,
   "id": "107bb0d7-2350-43c9-8c7b-e570a5fac110",
   "metadata": {},
   "outputs": [],
   "source": []
  }
 ],
 "metadata": {
  "kernelspec": {
   "display_name": "Python 3 (ipykernel)",
   "language": "python",
   "name": "python3"
  },
  "language_info": {
   "codemirror_mode": {
    "name": "ipython",
    "version": 3
   },
   "file_extension": ".py",
   "mimetype": "text/x-python",
   "name": "python",
   "nbconvert_exporter": "python",
   "pygments_lexer": "ipython3",
   "version": "3.9.6"
  }
 },
 "nbformat": 4,
 "nbformat_minor": 5
}
